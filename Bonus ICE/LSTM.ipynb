{
  "nbformat": 4,
  "nbformat_minor": 0,
  "metadata": {
    "colab": {
      "name": "LSTM.ipynb",
      "provenance": [],
      "collapsed_sections": []
    },
    "kernelspec": {
      "name": "python3",
      "display_name": "Python 3"
    },
    "language_info": {
      "name": "python"
    }
  },
  "cells": [
    {
      "cell_type": "markdown",
      "source": [
        ""
      ],
      "metadata": {
        "id": "N9sTENUQlEYI"
      }
    },
    {
      "cell_type": "markdown",
      "source": [
        "# **Recurrent Neural Network(RNN)**\n",
        "Long Short-Term Memory layer"
      ],
      "metadata": {
        "id": "Z0qq8YKAGJ5H"
      }
    },
    {
      "cell_type": "markdown",
      "source": [
        "https://sebastianraschka.com/blog/2020/intro-to-dl-ch01.html "
      ],
      "metadata": {
        "id": "yS6fh6AOjJFN"
      }
    },
    {
      "cell_type": "markdown",
      "source": [
        "https://medium.datadriveninvestor.com/a-high-level-introduction-to-lstms-34f81bfa262d"
      ],
      "metadata": {
        "id": "CCo3Ti1vmoiH"
      }
    },
    {
      "cell_type": "markdown",
      "source": [
        "https://towardsdatascience.com/machine-learning-for-beginners-an-introduction-to-neural-networks-d49f22d238f9"
      ],
      "metadata": {
        "id": "f6MINFHulDX2"
      }
    },
    {
      "cell_type": "markdown",
      "source": [
        "## **Load packages**"
      ],
      "metadata": {
        "id": "Ih6edHrnGY7O"
      }
    },
    {
      "cell_type": "code",
      "source": [
        "import tensorflow as tf\n",
        "from tensorflow.keras.datasets import imdb\n",
        "from tensorflow.keras.layers import Embedding, Dense, LSTM\n",
        "from tensorflow.keras.losses import BinaryCrossentropy\n",
        "from tensorflow.keras.models import Sequential\n",
        "from tensorflow.keras.optimizers import Adam\n",
        "from tensorflow.keras.preprocessing.sequence import pad_sequences\n",
        "import matplotlib.pyplot as plt"
      ],
      "metadata": {
        "id": "WHMroY_HGYgQ"
      },
      "execution_count": null,
      "outputs": []
    },
    {
      "cell_type": "markdown",
      "source": [
        "## **Load Dataset**\n",
        "movie reviews"
      ],
      "metadata": {
        "id": "fhfwUUGNkWPN"
      }
    },
    {
      "cell_type": "code",
      "source": [
        "(x_train, y_train), (x_test, y_test) = imdb.load_data(num_words=5000)"
      ],
      "metadata": {
        "id": "_YFc96QHkbwV"
      },
      "execution_count": null,
      "outputs": []
    },
    {
      "cell_type": "code",
      "source": [
        "x_train.shape"
      ],
      "metadata": {
        "id": "MtjwsHzOndyW"
      },
      "execution_count": null,
      "outputs": []
    },
    {
      "cell_type": "code",
      "source": [
        "padded_inputs = pad_sequences(x_train, maxlen=300, value = 0.0)\n",
        "padded_inputs_test = pad_sequences(x_test, maxlen=300, value = 0.0) "
      ],
      "metadata": {
        "id": "Q74VbXOIkj7e"
      },
      "execution_count": null,
      "outputs": []
    },
    {
      "cell_type": "code",
      "source": [
        "padded_inputs.shape"
      ],
      "metadata": {
        "id": "MwRDxRDGSdNw"
      },
      "execution_count": null,
      "outputs": []
    },
    {
      "cell_type": "markdown",
      "source": [
        "## **Build model**"
      ],
      "metadata": {
        "id": "cVJcuDWMnDZB"
      }
    },
    {
      "cell_type": "code",
      "source": [
        "model = Sequential()\n",
        "model.add(Embedding(5000, 15, input_length=300))\n",
        "model.add(LSTM(10))\n",
        "model.add(Dense(1, activation='sigmoid'))"
      ],
      "metadata": {
        "id": "NdAFulnUnNOr"
      },
      "execution_count": null,
      "outputs": []
    },
    {
      "cell_type": "code",
      "source": [
        "model.summary()"
      ],
      "metadata": {
        "id": "e-DwieQxrKs2"
      },
      "execution_count": null,
      "outputs": []
    },
    {
      "cell_type": "markdown",
      "source": [
        "## **Train model**"
      ],
      "metadata": {
        "id": "KUMhNGvarKcK"
      }
    },
    {
      "cell_type": "code",
      "source": [
        "model.compile(optimizer=Adam(), loss=BinaryCrossentropy(), metrics=['accuracy'])"
      ],
      "metadata": {
        "id": "bmpaPiCBq-gu"
      },
      "execution_count": null,
      "outputs": []
    },
    {
      "cell_type": "code",
      "source": [
        "history = model.fit(padded_inputs, y_train, batch_size=128, epochs=10, verbose=1, validation_split=0.2)"
      ],
      "metadata": {
        "id": "s9x4fjjjrcZz"
      },
      "execution_count": null,
      "outputs": []
    },
    {
      "cell_type": "markdown",
      "source": [
        "## **Evaluate model**"
      ],
      "metadata": {
        "id": "zSfwZo7kr4sm"
      }
    },
    {
      "cell_type": "markdown",
      "source": [
        "### **print accuarcy and loss on test dataset**"
      ],
      "metadata": {
        "id": "NKcwQU6AUHxn"
      }
    },
    {
      "cell_type": "code",
      "source": [
        "test_loss, test_acc = model.evaluate(padded_inputs_test, y_test, verbose=False)\n",
        "print(\"accuarcy of test dataset:\"+str(test_acc))\n",
        "print(\"loss of test dataset:\"+str(test_loss))"
      ],
      "metadata": {
        "id": "vDt6u83hr-f2"
      },
      "execution_count": null,
      "outputs": []
    },
    {
      "cell_type": "markdown",
      "source": [
        "### **plot accuracy of each epoch on train and test dataset**"
      ],
      "metadata": {
        "id": "Lpykl_K2VFFS"
      }
    },
    {
      "cell_type": "code",
      "source": [
        "plt.plot(history.history['accuracy'], label='accuracy')\n",
        "plt.plot(history.history['val_accuracy'], label = 'val_accuracy')\n",
        "plt.xlabel('Epoch')\n",
        "plt.ylabel('Accuracy')\n",
        "plt.ylim([0.5, 1])\n",
        "plt.legend(loc='lower right')"
      ],
      "metadata": {
        "id": "ysOOdfqbv-VE"
      },
      "execution_count": null,
      "outputs": []
    },
    {
      "cell_type": "markdown",
      "source": [
        "### **plot loss of each epoch on train and test dataset**"
      ],
      "metadata": {
        "id": "Mzk4v-kKVLAb"
      }
    },
    {
      "cell_type": "code",
      "source": [
        ""
      ],
      "metadata": {
        "id": "igNU_JuAVUIC"
      },
      "execution_count": null,
      "outputs": []
    }
  ]
}