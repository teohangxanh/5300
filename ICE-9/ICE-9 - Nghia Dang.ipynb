{
  "cells": [
    {
      "cell_type": "code",
      "source": [
        "# !pip install pyspark"
      ],
      "metadata": {
        "id": "xrf2o-L0YFLf"
      },
      "execution_count": 1,
      "outputs": []
    },
    {
      "cell_type": "markdown",
      "metadata": {
        "id": "ond6UFZnD4NN"
      },
      "source": [
        "# **1. Prepare Pyspark**"
      ]
    },
    {
      "cell_type": "code",
      "execution_count": 2,
      "metadata": {
        "id": "OQVpPh0Av5jo"
      },
      "outputs": [],
      "source": [
        "from pyspark.sql import SparkSession\n",
        "\n",
        "spark = SparkSession.builder.master(\"local[1]\").appName(\"MyApp\").getOrCreate()\n"
      ]
    },
    {
      "cell_type": "markdown",
      "metadata": {
        "id": "iYPOed16VblT"
      },
      "source": [
        "# **2. Load dataset**"
      ]
    },
    {
      "cell_type": "code",
      "source": [
        "from google.colab import drive\n",
        "drive.mount('/content/drive/')"
      ],
      "metadata": {
        "colab": {
          "base_uri": "https://localhost:8080/"
        },
        "id": "Goc1rHWQX0vA",
        "outputId": "a669ddc3-cf67-4737-f5c7-cbf9bcfe5a70"
      },
      "execution_count": 3,
      "outputs": [
        {
          "output_type": "stream",
          "name": "stdout",
          "text": [
            "Drive already mounted at /content/drive/; to attempt to forcibly remount, call drive.mount(\"/content/drive/\", force_remount=True).\n"
          ]
        }
      ]
    },
    {
      "cell_type": "code",
      "execution_count": 4,
      "metadata": {
        "id": "2O7I_lR2D9bk"
      },
      "outputs": [],
      "source": [
        "\"\"\"\n",
        "load models\n",
        "\"\"\"\n",
        "from pyspark.ml import Pipeline\n",
        "from pyspark.ml.feature import StringIndexer, VectorIndexer\n",
        "from pyspark.ml.evaluation import MulticlassClassificationEvaluator\n"
      ]
    },
    {
      "cell_type": "code",
      "execution_count": 5,
      "metadata": {
        "id": "QM1XsPIlsnjj"
      },
      "outputs": [],
      "source": [
        "\"\"\"\n",
        "load data\n",
        "load the dataset to google Drive. Then copy the link of the data file\n",
        "\"\"\"\n",
        "data = spark.read.format(\"libsvm\").load(\"drive/MyDrive/Colab Notebooks/dataset.txt\")\n"
      ]
    },
    {
      "cell_type": "code",
      "execution_count": 6,
      "metadata": {
        "id": "Wrzzfeiqo9zG",
        "colab": {
          "base_uri": "https://localhost:8080/"
        },
        "outputId": "0b41bf63-8a6a-4c28-93ab-77ca6174c0ed"
      },
      "outputs": [
        {
          "output_type": "stream",
          "name": "stdout",
          "text": [
            "+-------------------------------------------------+\n",
            "|features                                         |\n",
            "+-------------------------------------------------+\n",
            "|(4,[0,1,2,3],[-0.222222,0.5,-0.762712,-0.833333])|\n",
            "+-------------------------------------------------+\n",
            "only showing top 1 row\n",
            "\n"
          ]
        }
      ],
      "source": [
        "data.select(\"features\").show(1, False)\n"
      ]
    },
    {
      "cell_type": "code",
      "execution_count": 7,
      "metadata": {
        "id": "szyL1uGY0rND",
        "colab": {
          "base_uri": "https://localhost:8080/"
        },
        "outputId": "c23dc985-6b8d-4c34-b415-ec9ebb3ac5ff"
      },
      "outputs": [
        {
          "output_type": "execute_result",
          "data": {
            "text/plain": [
              "[('label', 'double'), ('features', 'vector')]"
            ]
          },
          "metadata": {},
          "execution_count": 7
        }
      ],
      "source": [
        "data.dtypes\n"
      ]
    },
    {
      "cell_type": "code",
      "execution_count": 8,
      "metadata": {
        "id": "JfDhcqCXtDYQ"
      },
      "outputs": [],
      "source": [
        "\"\"\"\n",
        "label indexer \n",
        "map a string column of labels to an ML column of label indices\n",
        "\"\"\"\n",
        "labelIndexer = StringIndexer(inputCol=\"label\", outputCol=\"indexedLabel\").fit(data)\n"
      ]
    },
    {
      "cell_type": "code",
      "execution_count": 9,
      "metadata": {
        "id": "cBG-_bOvtOzw"
      },
      "outputs": [],
      "source": [
        "\"\"\"\n",
        "class for indexing categorical feature columns in a dataset of Vector\n",
        "\"\"\"\n",
        "featureIndexer = VectorIndexer(\n",
        "    inputCol=\"features\", outputCol=\"indexedFeatures\", maxCategories=4\n",
        ").fit(data)\n"
      ]
    },
    {
      "cell_type": "code",
      "execution_count": 10,
      "metadata": {
        "id": "7I-7pP0stWfY"
      },
      "outputs": [],
      "source": [
        "\"\"\"\n",
        "split dataset to training and testing \n",
        "\"\"\"\n",
        "(trainingData, testData) = data.randomSplit([0.7, 0.3], 1)\n"
      ]
    },
    {
      "cell_type": "code",
      "execution_count": 11,
      "metadata": {
        "id": "NaDACZRDVblZ"
      },
      "outputs": [],
      "source": [
        "def train_data(model, train, test):\n",
        "    \"\"\"This function combine all steps in a pipeline, then use the model to fit and return the predictd values\"\"\"\n",
        "    # Combine steps to a pipeline\n",
        "    pipeline = Pipeline(stages=[labelIndexer, featureIndexer, model])\n",
        "    # Train data\n",
        "    full_model = pipeline.fit(train)\n",
        "    # Model predicts data\n",
        "    preds = full_model.transform(test)\n",
        "    # Print model architecture\n",
        "    print(full_model.stages[2])\n",
        "    # Show the first five predicted values\n",
        "    preds.show(5)\n",
        "    return preds\n",
        "\n",
        "\n",
        "def evaluate(preds):\n",
        "    \"\"\"This function prints some classification metrics\"\"\"\n",
        "    # Accuracy\n",
        "    acc_evaluator = MulticlassClassificationEvaluator(\n",
        "        labelCol=\"indexedLabel\",\n",
        "        predictionCol=\"prediction\",\n",
        "        metricName=\"accuracy\",\n",
        "    )\n",
        "    acc = acc_evaluator.evaluate(preds)\n",
        "    print(\"Accuracy: \" + str(acc))\n",
        "\n",
        "    # Precision\n",
        "    pr_evaluator = MulticlassClassificationEvaluator(\n",
        "        labelCol=\"indexedLabel\",\n",
        "        predictionCol=\"prediction\",\n",
        "        metricName=\"weightedPrecision\",\n",
        "    )\n",
        "    precision = pr_evaluator.evaluate(preds)\n",
        "    print(\"Precision: \" + str(precision))\n",
        "\n",
        "    # Recall\n",
        "    recall_evaluator = MulticlassClassificationEvaluator(\n",
        "        labelCol=\"indexedLabel\", predictionCol=\"prediction\", metricName=\"weightedRecall\"\n",
        "    )\n",
        "    recall = recall_evaluator.evaluate(preds)\n",
        "    print(\"Recall: \" + str(recall))\n",
        "\n",
        "    # F1\n",
        "    f1_evaluator = MulticlassClassificationEvaluator(\n",
        "        labelCol=\"indexedLabel\", predictionCol=\"prediction\", metricName=\"f1\"\n",
        "    )\n",
        "    f1 = f1_evaluator.evaluate(preds)\n",
        "    print(\"F1 score: \" + str(f1))\n"
      ]
    },
    {
      "cell_type": "markdown",
      "metadata": {
        "id": "21uTvYgroxGa"
      },
      "source": [
        "# **2. Decision Tree**\n",
        "Run below codes and answer question 1.\n",
        "\n",
        "reference:\n",
        "\n",
        "model:\n",
        "https://spark.apache.org/docs/latest/mllib-decision-tree.html\n",
        "\n",
        "evaluation:\n",
        "https://spark.apache.org/docs/latest/mllib-evaluation-metrics.html#multiclass-classification"
      ]
    },
    {
      "cell_type": "markdown",
      "metadata": {
        "id": "CEw8svcndhJL"
      },
      "source": [
        "## **Model and Evaluation**\n",
        "You finish codes on the f1 and recall parts and run the code. Answer the question 1."
      ]
    },
    {
      "cell_type": "code",
      "execution_count": 12,
      "metadata": {
        "colab": {
          "base_uri": "https://localhost:8080/"
        },
        "id": "gUdk28dtVblb",
        "outputId": "d018ad8a-41cc-43dd-e950-c538efccd5e7"
      },
      "outputs": [
        {
          "output_type": "stream",
          "name": "stdout",
          "text": [
            "DecisionTreeClassificationModel: uid=DecisionTreeClassifier_4d74e5f0432e, depth=2, numNodes=5, numClasses=3, numFeatures=4\n",
            "+-----+--------------------+------------+--------------------+--------------+-----------------+----------+\n",
            "|label|            features|indexedLabel|     indexedFeatures| rawPrediction|      probability|prediction|\n",
            "+-----+--------------------+------------+--------------------+--------------+-----------------+----------+\n",
            "|  0.0|(4,[0,1,2,3],[-0....|         0.0|(4,[0,1,2,3],[-0....|[32.0,0.0,0.0]|    [1.0,0.0,0.0]|       0.0|\n",
            "|  0.0|(4,[0,1,2,3],[-0....|         0.0|(4,[0,1,2,3],[-0....|[32.0,0.0,0.0]|    [1.0,0.0,0.0]|       0.0|\n",
            "|  0.0|(4,[0,1,2,3],[0.1...|         0.0|(4,[0,1,2,3],[0.1...|[32.0,0.0,0.0]|    [1.0,0.0,0.0]|       0.0|\n",
            "|  0.0|(4,[0,1,2,3],[0.1...|         0.0|(4,[0,1,2,3],[0.1...|[32.0,0.0,0.0]|    [1.0,0.0,0.0]|       0.0|\n",
            "|  0.0|(4,[0,1,2,3],[0.1...|         0.0|(4,[0,1,2,3],[0.1...|[3.0,0.0,37.0]|[0.075,0.0,0.925]|       2.0|\n",
            "+-----+--------------------+------------+--------------------+--------------+-----------------+----------+\n",
            "only showing top 5 rows\n",
            "\n",
            "Accuracy: 0.925\n",
            "Precision: 0.9267857142857142\n",
            "Recall: 0.925\n",
            "F1 score: 0.925095785440613\n"
          ]
        }
      ],
      "source": [
        "# Import model\n",
        "from pyspark.ml.classification import DecisionTreeClassifier\n",
        "\n",
        "evaluate(\n",
        "    train_data(\n",
        "        DecisionTreeClassifier(\n",
        "            maxDepth=2, featuresCol=\"indexedFeatures\", labelCol=\"indexedLabel\"\n",
        "        ),\n",
        "        trainingData,\n",
        "        testData,\n",
        "    )\n",
        ")\n"
      ]
    },
    {
      "cell_type": "markdown",
      "metadata": {
        "id": "x77t9BU9Vblb"
      },
      "source": [
        "## **Tweak the model**"
      ]
    },
    {
      "cell_type": "code",
      "execution_count": 13,
      "metadata": {
        "colab": {
          "base_uri": "https://localhost:8080/",
          "height": 313
        },
        "id": "dqVuPPlIVblb",
        "outputId": "dfeaef57-2c4a-41de-d5fb-7bd797586bc0"
      },
      "outputs": [
        {
          "output_type": "stream",
          "name": "stdout",
          "text": [
            "DecisionTreeClassificationModel: uid=DecisionTreeClassifier_327a104638dc, depth=1, numNodes=3, numClasses=3, numFeatures=4\n",
            "+-----+--------------------+------------+--------------------+---------------+--------------------+----------+\n",
            "|label|            features|indexedLabel|     indexedFeatures|  rawPrediction|         probability|prediction|\n",
            "+-----+--------------------+------------+--------------------+---------------+--------------------+----------+\n",
            "|  0.0|(4,[0,1,2,3],[-0....|         0.0|(4,[0,1,2,3],[-0....|[35.0,0.0,37.0]|[0.48611111111111...|       2.0|\n",
            "|  0.0|(4,[0,1,2,3],[-0....|         0.0|(4,[0,1,2,3],[-0....|[35.0,0.0,37.0]|[0.48611111111111...|       2.0|\n",
            "|  0.0|(4,[0,1,2,3],[0.1...|         0.0|(4,[0,1,2,3],[0.1...|[35.0,0.0,37.0]|[0.48611111111111...|       2.0|\n",
            "|  0.0|(4,[0,1,2,3],[0.1...|         0.0|(4,[0,1,2,3],[0.1...|[35.0,0.0,37.0]|[0.48611111111111...|       2.0|\n",
            "|  0.0|(4,[0,1,2,3],[0.1...|         0.0|(4,[0,1,2,3],[0.1...|[35.0,0.0,37.0]|[0.48611111111111...|       2.0|\n",
            "+-----+--------------------+------------+--------------------+---------------+--------------------+----------+\n",
            "only showing top 5 rows\n",
            "\n",
            "Accuracy: 0.625\n",
            "Precision: 0.4508928571428571\n",
            "Recall: 0.625\n",
            "F1 score: 0.5060975609756098\n"
          ]
        },
        {
          "output_type": "execute_result",
          "data": {
            "text/plain": [
              "'This model uses maxdepth 1, which is too shallow to distinguish different classes. As a result, the metrics are so bad'"
            ],
            "application/vnd.google.colaboratory.intrinsic+json": {
              "type": "string"
            }
          },
          "metadata": {},
          "execution_count": 13
        }
      ],
      "source": [
        "evaluate(\n",
        "    train_data(\n",
        "        DecisionTreeClassifier(\n",
        "            maxDepth=1, featuresCol=\"indexedFeatures\", labelCol=\"indexedLabel\"\n",
        "        ),\n",
        "        trainingData,\n",
        "        testData,\n",
        "    )\n",
        ")\n",
        "'''This model uses maxdepth 1, which is too shallow to distinguish different \n",
        "classes. As a result, the perfomance is so bad'''"
      ]
    },
    {
      "cell_type": "code",
      "execution_count": 14,
      "metadata": {
        "colab": {
          "base_uri": "https://localhost:8080/",
          "height": 313
        },
        "id": "eVbtHzQyVblc",
        "outputId": "5f3bdc64-3660-4c82-c669-424f92b77e8a"
      },
      "outputs": [
        {
          "output_type": "stream",
          "name": "stdout",
          "text": [
            "DecisionTreeClassificationModel: uid=DecisionTreeClassifier_81508b280e23, depth=6, numNodes=15, numClasses=3, numFeatures=4\n",
            "+-----+--------------------+------------+--------------------+--------------+-------------+----------+\n",
            "|label|            features|indexedLabel|     indexedFeatures| rawPrediction|  probability|prediction|\n",
            "+-----+--------------------+------------+--------------------+--------------+-------------+----------+\n",
            "|  0.0|(4,[0,1,2,3],[-0....|         0.0|(4,[0,1,2,3],[-0....|[32.0,0.0,0.0]|[1.0,0.0,0.0]|       0.0|\n",
            "|  0.0|(4,[0,1,2,3],[-0....|         0.0|(4,[0,1,2,3],[-0....|[32.0,0.0,0.0]|[1.0,0.0,0.0]|       0.0|\n",
            "|  0.0|(4,[0,1,2,3],[0.1...|         0.0|(4,[0,1,2,3],[0.1...|[32.0,0.0,0.0]|[1.0,0.0,0.0]|       0.0|\n",
            "|  0.0|(4,[0,1,2,3],[0.1...|         0.0|(4,[0,1,2,3],[0.1...|[32.0,0.0,0.0]|[1.0,0.0,0.0]|       0.0|\n",
            "|  0.0|(4,[0,1,2,3],[0.1...|         0.0|(4,[0,1,2,3],[0.1...| [0.0,0.0,2.0]|[0.0,0.0,1.0]|       2.0|\n",
            "+-----+--------------------+------------+--------------------+--------------+-------------+----------+\n",
            "only showing top 5 rows\n",
            "\n",
            "Accuracy: 0.95\n",
            "Precision: 0.95\n",
            "Recall: 0.95\n",
            "F1 score: 0.95\n"
          ]
        },
        {
          "output_type": "execute_result",
          "data": {
            "text/plain": [
              "'This model uses maxdepth 6, which means the tree can go deep and classify the samples that are close together'"
            ],
            "application/vnd.google.colaboratory.intrinsic+json": {
              "type": "string"
            }
          },
          "metadata": {},
          "execution_count": 14
        }
      ],
      "source": [
        "evaluate(\n",
        "    train_data(\n",
        "        DecisionTreeClassifier(\n",
        "            maxDepth=6, featuresCol=\"indexedFeatures\", labelCol=\"indexedLabel\"\n",
        "        ),\n",
        "        trainingData,\n",
        "        testData,\n",
        "    )\n",
        ")\n",
        "'''This model uses maxdepth 6, which means the tree can go deep and \n",
        "classify the samples that are close together'''"
      ]
    },
    {
      "cell_type": "markdown",
      "metadata": {
        "id": "YFFKRNGpDdXe"
      },
      "source": [
        "# **3. Random forest**\n",
        "Run below codes and answer question 2.\n",
        "\n",
        "reference:\n",
        "\n",
        "model:\n",
        "https://spark.apache.org/docs/latest/mllib-ensembles.html#random-forests \n",
        "\n",
        "evaluation:\n",
        "https://spark.apache.org/docs/latest/mllib-evaluation-metrics.html#multiclass-classification"
      ]
    },
    {
      "cell_type": "markdown",
      "metadata": {
        "id": "X30zALf3dy4w"
      },
      "source": [
        "## **Model and Evaluation**\n",
        "You finish codes on the precision and recall parts and run the code. Answer the question 2."
      ]
    },
    {
      "cell_type": "code",
      "execution_count": 15,
      "metadata": {
        "colab": {
          "base_uri": "https://localhost:8080/"
        },
        "id": "QbOZ17QYVbld",
        "outputId": "a643867c-8cb5-4ec1-bd5b-7f2424652f14"
      },
      "outputs": [
        {
          "output_type": "stream",
          "name": "stdout",
          "text": [
            "RandomForestClassificationModel: uid=RandomForestClassifier_de67016cbdc9, numTrees=20, numClasses=3, numFeatures=4\n",
            "+-----+--------------------+------------+--------------------+--------------------+--------------------+----------+\n",
            "|label|            features|indexedLabel|     indexedFeatures|       rawPrediction|         probability|prediction|\n",
            "+-----+--------------------+------------+--------------------+--------------------+--------------------+----------+\n",
            "|  0.0|(4,[0,1,2,3],[-0....|         0.0|(4,[0,1,2,3],[-0....|[13.8624541102983...|[0.69312270551491...|       0.0|\n",
            "|  0.0|(4,[0,1,2,3],[-0....|         0.0|(4,[0,1,2,3],[-0....|[13.8624541102983...|[0.69312270551491...|       0.0|\n",
            "|  0.0|(4,[0,1,2,3],[0.1...|         0.0|(4,[0,1,2,3],[0.1...|[16.3731002989050...|[0.81865501494525...|       0.0|\n",
            "|  0.0|(4,[0,1,2,3],[0.1...|         0.0|(4,[0,1,2,3],[0.1...|[16.3731002989050...|[0.81865501494525...|       0.0|\n",
            "|  0.0|(4,[0,1,2,3],[0.1...|         0.0|(4,[0,1,2,3],[0.1...|[7.17151810080024...|[0.35857590504001...|       2.0|\n",
            "+-----+--------------------+------------+--------------------+--------------------+--------------------+----------+\n",
            "only showing top 5 rows\n",
            "\n",
            "Accuracy: 0.925\n",
            "Precision: 0.9267857142857142\n",
            "Recall: 0.925\n",
            "F1 score: 0.925095785440613\n"
          ]
        }
      ],
      "source": [
        "from pyspark.ml.classification import RandomForestClassifier\n",
        "\n",
        "# Initialize an object of random forest classifier\n",
        "evaluate(\n",
        "    train_data(\n",
        "        RandomForestClassifier(\n",
        "            maxDepth=2, featuresCol=\"indexedFeatures\", labelCol=\"indexedLabel\"\n",
        "        ),\n",
        "        trainingData,\n",
        "        testData,\n",
        "    )\n",
        ")\n"
      ]
    },
    {
      "cell_type": "markdown",
      "metadata": {
        "id": "LwhT_GxzVbld"
      },
      "source": [
        "## **Tweak the model**"
      ]
    },
    {
      "cell_type": "code",
      "execution_count": 16,
      "metadata": {
        "colab": {
          "base_uri": "https://localhost:8080/",
          "height": 313
        },
        "id": "gpdedRqWVbld",
        "outputId": "848e7355-0b89-4e32-a211-3048a2ba526c"
      },
      "outputs": [
        {
          "output_type": "stream",
          "name": "stdout",
          "text": [
            "RandomForestClassificationModel: uid=RandomForestClassifier_b0d8e13f9ce7, numTrees=20, numClasses=3, numFeatures=4\n",
            "+-----+--------------------+------------+--------------------+--------------+---------------+----------+\n",
            "|label|            features|indexedLabel|     indexedFeatures| rawPrediction|    probability|prediction|\n",
            "+-----+--------------------+------------+--------------------+--------------+---------------+----------+\n",
            "|  0.0|(4,[0,1,2,3],[-0....|         0.0|(4,[0,1,2,3],[-0....|[19.0,0.0,1.0]|[0.95,0.0,0.05]|       0.0|\n",
            "|  0.0|(4,[0,1,2,3],[-0....|         0.0|(4,[0,1,2,3],[-0....|[19.0,0.0,1.0]|[0.95,0.0,0.05]|       0.0|\n",
            "|  0.0|(4,[0,1,2,3],[0.1...|         0.0|(4,[0,1,2,3],[0.1...|[17.0,0.0,3.0]|[0.85,0.0,0.15]|       0.0|\n",
            "|  0.0|(4,[0,1,2,3],[0.1...|         0.0|(4,[0,1,2,3],[0.1...|[17.0,0.0,3.0]|[0.85,0.0,0.15]|       0.0|\n",
            "|  0.0|(4,[0,1,2,3],[0.1...|         0.0|(4,[0,1,2,3],[0.1...|[7.0,0.0,13.0]|[0.35,0.0,0.65]|       2.0|\n",
            "+-----+--------------------+------------+--------------------+--------------+---------------+----------+\n",
            "only showing top 5 rows\n",
            "\n",
            "Accuracy: 0.95\n",
            "Precision: 0.95\n",
            "Recall: 0.95\n",
            "F1 score: 0.95\n"
          ]
        },
        {
          "output_type": "execute_result",
          "data": {
            "text/plain": [
              "'This model uses maxdepth 6. However, the metrics are still the same. My conjecture is that because Random Forest is a bagging model, it averages numerous different trees'"
            ],
            "application/vnd.google.colaboratory.intrinsic+json": {
              "type": "string"
            }
          },
          "metadata": {},
          "execution_count": 16
        }
      ],
      "source": [
        "# Initialize an object of random forest classifier\n",
        "evaluate(\n",
        "    train_data(\n",
        "        RandomForestClassifier(\n",
        "            maxDepth=6, featuresCol=\"indexedFeatures\", labelCol=\"indexedLabel\"\n",
        "        ),\n",
        "        trainingData,\n",
        "        testData,\n",
        "    )\n",
        ")\n",
        "'''This model uses maxdepth 6. However, the metrics are still the same. \n",
        "My conjecture is that because Random Forest is a bagging model, \n",
        "it averages numerous different trees'''"
      ]
    },
    {
      "cell_type": "code",
      "execution_count": 17,
      "metadata": {
        "colab": {
          "base_uri": "https://localhost:8080/",
          "height": 313
        },
        "id": "da0wqUsNVble",
        "outputId": "a82ab99a-9629-443e-edaa-9dbdbf538906"
      },
      "outputs": [
        {
          "output_type": "stream",
          "name": "stdout",
          "text": [
            "RandomForestClassificationModel: uid=RandomForestClassifier_c7b4f18cfef8, numTrees=20, numClasses=3, numFeatures=4\n",
            "+-----+--------------------+------------+--------------------+--------------+---------------+----------+\n",
            "|label|            features|indexedLabel|     indexedFeatures| rawPrediction|    probability|prediction|\n",
            "+-----+--------------------+------------+--------------------+--------------+---------------+----------+\n",
            "|  0.0|(4,[0,1,2,3],[-0....|         0.0|(4,[0,1,2,3],[-0....|[19.0,0.0,1.0]|[0.95,0.0,0.05]|       0.0|\n",
            "|  0.0|(4,[0,1,2,3],[-0....|         0.0|(4,[0,1,2,3],[-0....|[19.0,0.0,1.0]|[0.95,0.0,0.05]|       0.0|\n",
            "|  0.0|(4,[0,1,2,3],[0.1...|         0.0|(4,[0,1,2,3],[0.1...|[17.0,0.0,3.0]|[0.85,0.0,0.15]|       0.0|\n",
            "|  0.0|(4,[0,1,2,3],[0.1...|         0.0|(4,[0,1,2,3],[0.1...|[17.0,0.0,3.0]|[0.85,0.0,0.15]|       0.0|\n",
            "|  0.0|(4,[0,1,2,3],[0.1...|         0.0|(4,[0,1,2,3],[0.1...|[7.0,0.0,13.0]|[0.35,0.0,0.65]|       2.0|\n",
            "+-----+--------------------+------------+--------------------+--------------+---------------+----------+\n",
            "only showing top 5 rows\n",
            "\n",
            "Accuracy: 0.95\n",
            "Precision: 0.95\n",
            "Recall: 0.95\n",
            "F1 score: 0.95\n"
          ]
        },
        {
          "output_type": "execute_result",
          "data": {
            "text/plain": [
              "'This model uses maxdepth 20 but the result is as same as 2. The reason is similar to above. This model is a promising candidate due to its performance stability'"
            ],
            "application/vnd.google.colaboratory.intrinsic+json": {
              "type": "string"
            }
          },
          "metadata": {},
          "execution_count": 17
        }
      ],
      "source": [
        "# Initialize an object of random forest classifier\n",
        "evaluate(\n",
        "    train_data(\n",
        "        RandomForestClassifier(\n",
        "            maxDepth=20, featuresCol=\"indexedFeatures\", labelCol=\"indexedLabel\"\n",
        "        ),\n",
        "        trainingData,\n",
        "        testData,\n",
        "    )\n",
        ")\n",
        "'''This model uses maxdepth 20 but the result is as same as 2. \n",
        "The reason is similar to above. This model is a promising candidate \n",
        "due to its performance stability'''"
      ]
    },
    {
      "cell_type": "markdown",
      "metadata": {
        "id": "ss47FevCG2Oi"
      },
      "source": [
        "# **4. Naive bayes**\n",
        "Run below codes and answer question 3.\n",
        "\n",
        "reference:\n",
        "\n",
        "model:\n",
        "https://en.wikipedia.org/wiki/Naive_Bayes_classifier\n",
        "\n",
        "evaluation:\n",
        "https://spark.apache.org/docs/latest/mllib-evaluation-metrics.html#multiclass-classification"
      ]
    },
    {
      "cell_type": "markdown",
      "metadata": {
        "id": "Ul7yLhbIJF8K"
      },
      "source": [
        "## **Model and Evaluation**\n",
        "You finish codes on the accurancy and f1 parts and run the code. Answer the question 3."
      ]
    },
    {
      "cell_type": "code",
      "execution_count": 18,
      "metadata": {
        "colab": {
          "base_uri": "https://localhost:8080/"
        },
        "id": "QLwGslFOVblf",
        "outputId": "7399269b-3356-45df-f5d0-42b4446c4cc7"
      },
      "outputs": [
        {
          "output_type": "stream",
          "name": "stdout",
          "text": [
            "NaiveBayesModel: uid=NaiveBayes_2a01ea38fab8, modelType=gaussian, numClasses=3, numFeatures=4\n",
            "+-----+--------------------+------------+--------------------+--------------------+--------------------+----------+\n",
            "|label|            features|indexedLabel|     indexedFeatures|       rawPrediction|         probability|prediction|\n",
            "+-----+--------------------+------------+--------------------+--------------------+--------------------+----------+\n",
            "|  0.0|(4,[0,1,2,3],[-0....|         0.0|(4,[0,1,2,3],[-0....|[3.13395250343589...|[0.98821889013074...|       0.0|\n",
            "|  0.0|(4,[0,1,2,3],[-0....|         0.0|(4,[0,1,2,3],[-0....|[2.47992991282332...|[0.99999972114088...|       0.0|\n",
            "|  0.0|(4,[0,1,2,3],[0.1...|         0.0|(4,[0,1,2,3],[0.1...|[2.83017174990633...|[0.98659011250279...|       0.0|\n",
            "|  0.0|(4,[0,1,2,3],[0.1...|         0.0|(4,[0,1,2,3],[0.1...|[3.17832324917874...|[0.93656571239189...|       0.0|\n",
            "|  0.0|(4,[0,1,2,3],[0.1...|         0.0|(4,[0,1,2,3],[0.1...|[2.23506599993514...|[0.40502860952590...|       2.0|\n",
            "+-----+--------------------+------------+--------------------+--------------------+--------------------+----------+\n",
            "only showing top 5 rows\n",
            "\n",
            "Accuracy: 0.95\n",
            "Precision: 0.95\n",
            "Recall: 0.95\n",
            "F1 score: 0.95\n"
          ]
        }
      ],
      "source": [
        "from pyspark.ml.classification import NaiveBayes\n",
        "\n",
        "# Initialize an object of NB classifier\n",
        "evaluate(\n",
        "    train_data(\n",
        "        NaiveBayes(\n",
        "            smoothing=1.0,\n",
        "            modelType=\"gaussian\",\n",
        "            featuresCol=\"indexedFeatures\",\n",
        "            labelCol=\"indexedLabel\",\n",
        "            thresholds=[0.5, 0.5, 0.5],\n",
        "        ),\n",
        "        trainingData,\n",
        "        testData,\n",
        "    )\n",
        ")"
      ]
    },
    {
      "cell_type": "markdown",
      "metadata": {
        "id": "rYTIqEYeVblf"
      },
      "source": [
        "## **Tweak the model**"
      ]
    },
    {
      "cell_type": "code",
      "execution_count": 19,
      "metadata": {
        "colab": {
          "base_uri": "https://localhost:8080/",
          "height": 313
        },
        "id": "BidoJziBVblf",
        "outputId": "61fedca1-8916-4a1d-eb74-1875fb9692ff"
      },
      "outputs": [
        {
          "output_type": "stream",
          "name": "stdout",
          "text": [
            "NaiveBayesModel: uid=NaiveBayes_e0b2f888ca67, modelType=gaussian, numClasses=3, numFeatures=4\n",
            "+-----+--------------------+------------+--------------------+--------------------+--------------------+----------+\n",
            "|label|            features|indexedLabel|     indexedFeatures|       rawPrediction|         probability|prediction|\n",
            "+-----+--------------------+------------+--------------------+--------------------+--------------------+----------+\n",
            "|  0.0|(4,[0,1,2,3],[-0....|         0.0|(4,[0,1,2,3],[-0....|[3.13395250343589...|[0.98821889013074...|       0.0|\n",
            "|  0.0|(4,[0,1,2,3],[-0....|         0.0|(4,[0,1,2,3],[-0....|[2.47992991282332...|[0.99999972114088...|       0.0|\n",
            "|  0.0|(4,[0,1,2,3],[0.1...|         0.0|(4,[0,1,2,3],[0.1...|[2.83017174990633...|[0.98659011250279...|       0.0|\n",
            "|  0.0|(4,[0,1,2,3],[0.1...|         0.0|(4,[0,1,2,3],[0.1...|[3.17832324917874...|[0.93656571239189...|       0.0|\n",
            "|  0.0|(4,[0,1,2,3],[0.1...|         0.0|(4,[0,1,2,3],[0.1...|[2.23506599993514...|[0.40502860952590...|       2.0|\n",
            "+-----+--------------------+------------+--------------------+--------------------+--------------------+----------+\n",
            "only showing top 5 rows\n",
            "\n",
            "Accuracy: 0.95\n",
            "Precision: 0.95\n",
            "Recall: 0.95\n",
            "F1 score: 0.95\n"
          ]
        },
        {
          "output_type": "execute_result",
          "data": {
            "text/plain": [
              "'I change the threshold to be skewed but the metric values are as same as the original one. It means that the probability of the correctly predicted values is dominant'"
            ],
            "application/vnd.google.colaboratory.intrinsic+json": {
              "type": "string"
            }
          },
          "metadata": {},
          "execution_count": 19
        }
      ],
      "source": [
        "# Initialize an object of NB classifier\n",
        "evaluate(\n",
        "    train_data(\n",
        "        NaiveBayes(\n",
        "            smoothing=1.0,\n",
        "            modelType=\"gaussian\",\n",
        "            featuresCol=\"indexedFeatures\",\n",
        "            labelCol=\"indexedLabel\",\n",
        "            thresholds=[0.6, 0.7, 0.5],\n",
        "        ),\n",
        "        trainingData,\n",
        "        testData,\n",
        "    )\n",
        ")\n",
        "'''I change the threshold to be skewed but the metric values are as same as \n",
        "the original one. It means that the probability of the \n",
        "correctly predicted values is dominant'''"
      ]
    },
    {
      "cell_type": "code",
      "execution_count": 20,
      "metadata": {
        "colab": {
          "base_uri": "https://localhost:8080/",
          "height": 330
        },
        "id": "2CwRGNZ5Vblf",
        "outputId": "c905ef5e-daf2-4f25-fee4-7dd792b1177b"
      },
      "outputs": [
        {
          "output_type": "stream",
          "name": "stdout",
          "text": [
            "NaiveBayesModel: uid=NaiveBayes_4a4a88d79841, modelType=gaussian, numClasses=3, numFeatures=4\n",
            "+-----+--------------------+------------+--------------------+--------------------+--------------------+----------+\n",
            "|label|            features|indexedLabel|     indexedFeatures|       rawPrediction|         probability|prediction|\n",
            "+-----+--------------------+------------+--------------------+--------------------+--------------------+----------+\n",
            "|  0.0|(4,[0,1,2,3],[-0....|         0.0|(4,[0,1,2,3],[-0....|[3.13395250343589...|[0.98821889013074...|       0.0|\n",
            "|  0.0|(4,[0,1,2,3],[-0....|         0.0|(4,[0,1,2,3],[-0....|[2.47992991282332...|[0.99999972114088...|       0.0|\n",
            "|  0.0|(4,[0,1,2,3],[0.1...|         0.0|(4,[0,1,2,3],[0.1...|[2.83017174990633...|[0.98659011250279...|       0.0|\n",
            "|  0.0|(4,[0,1,2,3],[0.1...|         0.0|(4,[0,1,2,3],[0.1...|[3.17832324917874...|[0.93656571239189...|       0.0|\n",
            "|  0.0|(4,[0,1,2,3],[0.1...|         0.0|(4,[0,1,2,3],[0.1...|[2.23506599993514...|[0.40502860952590...|       0.0|\n",
            "+-----+--------------------+------------+--------------------+--------------------+--------------------+----------+\n",
            "only showing top 5 rows\n",
            "\n",
            "Accuracy: 0.975\n",
            "Precision: 0.9765625\n",
            "Recall: 0.975\n",
            "F1 score: 0.9749032258064516\n"
          ]
        },
        {
          "output_type": "execute_result",
          "data": {
            "text/plain": [
              "'This threshold yields better result than the default values of all 0.5. \\nThe explanation is that the weight of each class is not the same. A search tool\\nmay be helpful in finding the best threshold'"
            ],
            "application/vnd.google.colaboratory.intrinsic+json": {
              "type": "string"
            }
          },
          "metadata": {},
          "execution_count": 20
        }
      ],
      "source": [
        "# Initialize an object of NB classifier\n",
        "evaluate(\n",
        "    train_data(\n",
        "        NaiveBayes(\n",
        "            smoothing=1.0,\n",
        "            modelType=\"gaussian\",\n",
        "            featuresCol=\"indexedFeatures\",\n",
        "            labelCol=\"indexedLabel\",\n",
        "            thresholds=[0.3, 0.3, 0.8],\n",
        "        ),\n",
        "        trainingData,\n",
        "        testData,\n",
        "    )\n",
        ")\n",
        "'''This threshold yields better result than the default values of all 0.5. \n",
        "The explanation is that the weight of each class is not the same. A search tool\n",
        "may be helpful in finding the best threshold'''"
      ]
    },
    {
      "cell_type": "markdown",
      "metadata": {
        "id": "EhpB_KcRIxgt"
      },
      "source": [
        "# **5. SVM**\n",
        "Run below codes and answer question 4.\n",
        "\n",
        "reference:\n",
        "\n",
        "model:\n",
        "https://en.wikipedia.org/wiki/Naive_Bayes_classifier\n",
        "\n",
        "evaluation:\n",
        "https://spark.apache.org/docs/latest/mllib-evaluation-metrics.html#multiclass-classification"
      ]
    },
    {
      "cell_type": "markdown",
      "metadata": {
        "id": "SegCIHklJR6j"
      },
      "source": [
        "## **Model and Evaluation**\n",
        "You finish codes on the accurancy and precision parts and run the code. Answer the question 4."
      ]
    },
    {
      "cell_type": "code",
      "execution_count": 21,
      "metadata": {
        "colab": {
          "base_uri": "https://localhost:8080/"
        },
        "id": "__pj6fqeVblg",
        "outputId": "ea7343fa-0e1c-4eb1-e58d-2f4a6249d251"
      },
      "outputs": [
        {
          "output_type": "stream",
          "name": "stdout",
          "text": [
            "OneVsRestModel_28a2e1c669b7\n",
            "+-----+--------------------+------------+--------------------+--------------------+----------+\n",
            "|label|            features|indexedLabel|     indexedFeatures|       rawPrediction|prediction|\n",
            "+-----+--------------------+------------+--------------------+--------------------+----------+\n",
            "|  0.0|(4,[0,1,2,3],[-0....|         0.0|(4,[0,1,2,3],[-0....|[0.50965618389471...|       0.0|\n",
            "|  0.0|(4,[0,1,2,3],[-0....|         0.0|(4,[0,1,2,3],[-0....|[0.77006103896559...|       0.0|\n",
            "|  0.0|(4,[0,1,2,3],[0.1...|         0.0|(4,[0,1,2,3],[0.1...|[0.67944643362179...|       0.0|\n",
            "|  0.0|(4,[0,1,2,3],[0.1...|         0.0|(4,[0,1,2,3],[0.1...|[0.59878726254498...|       0.0|\n",
            "|  0.0|(4,[0,1,2,3],[0.1...|         0.0|(4,[0,1,2,3],[0.1...|[0.47692624838688...|       0.0|\n",
            "+-----+--------------------+------------+--------------------+--------------------+----------+\n",
            "only showing top 5 rows\n",
            "\n",
            "Accuracy: 0.725\n",
            "Precision: 0.8413461538461539\n",
            "Recall: 0.725\n",
            "F1 score: 0.6610569105691056\n"
          ]
        }
      ],
      "source": [
        "import numpy\n",
        "from pyspark.ml.classification import LinearSVC, OneVsRest\n",
        "\n",
        "lsvc = LinearSVC(\n",
        "    maxIter=2, regParam=0.1, featuresCol=\"indexedFeatures\", labelCol=\"indexedLabel\"\n",
        ")\n",
        "ovr = OneVsRest(classifier=lsvc)\n",
        "# Initialize an object of SVM classifier\n",
        "evaluate(\n",
        "    train_data(\n",
        "        ovr,\n",
        "        trainingData,\n",
        "        testData,\n",
        "    )\n",
        ")\n"
      ]
    },
    {
      "cell_type": "markdown",
      "metadata": {
        "id": "psHVXVomVblh"
      },
      "source": [
        "## **Tweak the model**"
      ]
    },
    {
      "cell_type": "code",
      "execution_count": 22,
      "metadata": {
        "colab": {
          "base_uri": "https://localhost:8080/",
          "height": 313
        },
        "id": "tGiwyaICVblh",
        "outputId": "4fa90787-f762-4513-b5b7-60d7c11f0165"
      },
      "outputs": [
        {
          "output_type": "stream",
          "name": "stdout",
          "text": [
            "OneVsRestModel_e1be58562a88\n",
            "+-----+--------------------+------------+--------------------+--------------------+----------+\n",
            "|label|            features|indexedLabel|     indexedFeatures|       rawPrediction|prediction|\n",
            "+-----+--------------------+------------+--------------------+--------------------+----------+\n",
            "|  0.0|(4,[0,1,2,3],[-0....|         0.0|(4,[0,1,2,3],[-0....|[0.31747246954499...|       0.0|\n",
            "|  0.0|(4,[0,1,2,3],[-0....|         0.0|(4,[0,1,2,3],[-0....|[0.99752083949762...|       0.0|\n",
            "|  0.0|(4,[0,1,2,3],[0.1...|         0.0|(4,[0,1,2,3],[0.1...|[0.39601565117431...|       0.0|\n",
            "|  0.0|(4,[0,1,2,3],[0.1...|         0.0|(4,[0,1,2,3],[0.1...|[0.19364475744896...|       0.0|\n",
            "|  0.0|(4,[0,1,2,3],[0.1...|         0.0|(4,[0,1,2,3],[0.1...|[-0.1469144356747...|       0.0|\n",
            "+-----+--------------------+------------+--------------------+--------------------+----------+\n",
            "only showing top 5 rows\n",
            "\n",
            "Accuracy: 0.85\n",
            "Precision: 0.8928571428571429\n",
            "Recall: 0.85\n",
            "F1 score: 0.8400000000000001\n"
          ]
        },
        {
          "output_type": "execute_result",
          "data": {
            "text/plain": [
              "''"
            ],
            "application/vnd.google.colaboratory.intrinsic+json": {
              "type": "string"
            }
          },
          "metadata": {},
          "execution_count": 22
        }
      ],
      "source": [
        "import numpy\n",
        "from pyspark.ml.classification import LinearSVC, OneVsRest\n",
        "\n",
        "lsvc = LinearSVC(\n",
        "    maxIter=20, regParam=0.1, featuresCol=\"indexedFeatures\", labelCol=\"indexedLabel\"\n",
        ")\n",
        "ovr = OneVsRest(classifier=lsvc)\n",
        "# Initialize an object of SVM classifier\n",
        "evaluate(\n",
        "    train_data(\n",
        "        ovr,\n",
        "        trainingData,\n",
        "        testData,\n",
        "    )\n",
        ")\n",
        "'''The maxIter is set to be 20, 10 times than the original one. This will give \n",
        "the model more time to adjust the parameters to fit the data'''"
      ]
    },
    {
      "cell_type": "code",
      "execution_count": 23,
      "metadata": {
        "colab": {
          "base_uri": "https://localhost:8080/"
        },
        "id": "ovSCGWrPVblh",
        "outputId": "71fade25-b715-4361-b404-025e1aab2e67"
      },
      "outputs": [
        {
          "output_type": "stream",
          "name": "stdout",
          "text": [
            "OneVsRestModel_9f4581c29520\n",
            "+-----+--------------------+------------+--------------------+--------------------+----------+\n",
            "|label|            features|indexedLabel|     indexedFeatures|       rawPrediction|prediction|\n",
            "+-----+--------------------+------------+--------------------+--------------------+----------+\n",
            "|  0.0|(4,[0,1,2,3],[-0....|         0.0|(4,[0,1,2,3],[-0....|[0.31690184047142...|       0.0|\n",
            "|  0.0|(4,[0,1,2,3],[-0....|         0.0|(4,[0,1,2,3],[-0....|[0.99913574582145...|       0.0|\n",
            "|  0.0|(4,[0,1,2,3],[0.1...|         0.0|(4,[0,1,2,3],[0.1...|[0.38261860187360...|       0.0|\n",
            "|  0.0|(4,[0,1,2,3],[0.1...|         0.0|(4,[0,1,2,3],[0.1...|[0.18064027129859...|       0.0|\n",
            "|  0.0|(4,[0,1,2,3],[0.1...|         0.0|(4,[0,1,2,3],[0.1...|[-0.1586322996944...|       0.0|\n",
            "+-----+--------------------+------------+--------------------+--------------------+----------+\n",
            "only showing top 5 rows\n",
            "\n",
            "Accuracy: 0.875\n",
            "Precision: 0.90625\n",
            "Recall: 0.875\n",
            "F1 score: 0.8690476190476191\n"
          ]
        }
      ],
      "source": [
        "from pyspark.ml.classification import LinearSVC, OneVsRest\n",
        "\n",
        "lsvc = LinearSVC(\n",
        "    maxIter=100, regParam=0.1, featuresCol=\"indexedFeatures\", labelCol=\"indexedLabel\"\n",
        ")\n",
        "ovr = OneVsRest(classifier=lsvc)\n",
        "# Initialize an object of SVM classifier\n",
        "evaluate(\n",
        "    train_data(\n",
        "        ovr,\n",
        "        trainingData,\n",
        "        testData,\n",
        "    )\n",
        ")\n",
        "'''The maxIter is set to be 100, 5 times than the second one. However, the \n",
        "performance is not significantly better even though all is. This may be an \n",
        "indication that the model is reaching the best iteration before overfitting.'''"
      ]
    }
  ],
  "metadata": {
    "colab": {
      "collapsed_sections": [],
      "name": "5300 - ICE-9 - Nghia Dang.ipynb",
      "provenance": []
    },
    "kernelspec": {
      "display_name": "Python 3",
      "name": "python3"
    },
    "language_info": {
      "codemirror_mode": {
        "name": "ipython",
        "version": 3
      },
      "file_extension": ".py",
      "mimetype": "text/x-python",
      "name": "python",
      "nbconvert_exporter": "python",
      "pygments_lexer": "ipython3",
      "version": "3.9.7"
    }
  },
  "nbformat": 4,
  "nbformat_minor": 0
}